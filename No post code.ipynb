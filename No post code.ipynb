{
 "cells": [
  {
   "cell_type": "code",
   "execution_count": 32,
   "id": "091d43c0",
   "metadata": {},
   "outputs": [],
   "source": [
    "import pandas as pd\n",
    "from sklearn import datasets\n",
    "import seaborn as sns\n",
    "import matplotlib.pyplot as plt\n",
    "import numpy as np\n",
    "%matplotlib inline\n",
    "from mpl_toolkits.mplot3d import Axes3D\n",
    "\n",
    "df_15 = pd.read_csv('data_15feb.csv')"
   ]
  },
  {
   "cell_type": "code",
   "execution_count": 33,
   "id": "48530051",
   "metadata": {},
   "outputs": [],
   "source": [
    "df_no_zip = df_15.loc[ :,[ 'Price',\n",
    " 'Building condition',\n",
    " 'Kitchen type',\n",
    " 'Bedrooms',\n",
    " 'Furnished',\n",
    " 'Number of frontages',\n",
    " 'Swimming pool',\n",
    " 'Surface of the plot',\n",
    " 'Living area',\n",
    " 'property sub-type_BUNGALOW',\n",
    " 'property sub-type_CASTLE',\n",
    " 'property sub-type_CHALET',\n",
    " 'property sub-type_COUNTRY_COTTAGE',\n",
    " 'property sub-type_DUPLEX',\n",
    " 'property sub-type_EXCEPTIONAL_PROPERTY',\n",
    " 'property sub-type_FARMHOUSE',\n",
    " 'property sub-type_FLAT_STUDIO',\n",
    " 'property sub-type_GROUND_FLOOR',\n",
    " 'property sub-type_KOT',\n",
    " 'property sub-type_LOFT',\n",
    " 'property sub-type_MANOR_HOUSE',\n",
    " 'property sub-type_MANSION',\n",
    " 'property sub-type_MIXED_USE_BUILDING',\n",
    " 'property sub-type_PENTHOUSE',\n",
    " 'property sub-type_SERVICE_FLAT',\n",
    " 'property sub-type_TOWN_HOUSE',\n",
    " 'property sub-type_TRIPLEX',\n",
    " 'property sub-type_VILLA',\n",
    " 'Terrace_Combined',\n",
    " 'garden_label']] "
   ]
  },
  {
   "cell_type": "code",
   "execution_count": 34,
   "id": "59632132",
   "metadata": {},
   "outputs": [],
   "source": [
    "features = [\n",
    " 'Building condition',\n",
    " 'Kitchen type',\n",
    " 'Bedrooms',\n",
    " 'Furnished',\n",
    " 'Number of frontages',\n",
    " 'Swimming pool',\n",
    " 'Surface of the plot',\n",
    " 'Living area',\n",
    " 'property sub-type_BUNGALOW',\n",
    " 'property sub-type_CASTLE',\n",
    " 'property sub-type_CHALET',\n",
    " 'property sub-type_COUNTRY_COTTAGE',\n",
    " 'property sub-type_DUPLEX',\n",
    " 'property sub-type_EXCEPTIONAL_PROPERTY',\n",
    " 'property sub-type_FARMHOUSE',\n",
    " 'property sub-type_FLAT_STUDIO',\n",
    " 'property sub-type_GROUND_FLOOR',\n",
    " 'property sub-type_KOT',\n",
    " 'property sub-type_LOFT',\n",
    " 'property sub-type_MANOR_HOUSE',\n",
    " 'property sub-type_MANSION',\n",
    " 'property sub-type_MIXED_USE_BUILDING',\n",
    " 'property sub-type_PENTHOUSE',\n",
    " 'property sub-type_SERVICE_FLAT',\n",
    " 'property sub-type_TOWN_HOUSE',\n",
    " 'property sub-type_TRIPLEX',\n",
    " 'property sub-type_VILLA',\n",
    " 'Terrace_Combined',\n",
    " 'garden_label']\n",
    "target = 'Price'"
   ]
  },
  {
   "cell_type": "code",
   "execution_count": null,
   "id": "591ea961",
   "metadata": {},
   "outputs": [],
   "source": []
  },
  {
   "cell_type": "code",
   "execution_count": 35,
   "id": "f2c7643f",
   "metadata": {},
   "outputs": [],
   "source": [
    "X = df_no_zip[features].values.reshape(-1, len(features))\n",
    "Y = df_no_zip[target].values"
   ]
  },
  {
   "cell_type": "code",
   "execution_count": 36,
   "id": "c06d5edc",
   "metadata": {},
   "outputs": [],
   "source": [
    "from sklearn.model_selection import train_test_split\n",
    "\n",
    "X_train, X_test, y_train, y_test = train_test_split(X, Y)\n",
    "X_test\n",
    "y_test\n",
    "array = train_test_split(X, Y)"
   ]
  },
  {
   "cell_type": "code",
   "execution_count": 37,
   "id": "1d2a16b4",
   "metadata": {},
   "outputs": [],
   "source": [
    "from sklearn.linear_model import LinearRegression\n",
    "regressor = LinearRegression().fit(X_train, y_train)"
   ]
  },
  {
   "cell_type": "code",
   "execution_count": 38,
   "id": "5f5da5d0",
   "metadata": {},
   "outputs": [
    {
     "data": {
      "text/plain": [
       "0.402640676455138"
      ]
     },
     "execution_count": 38,
     "metadata": {},
     "output_type": "execute_result"
    }
   ],
   "source": [
    "regressor.score(X_train, y_train)"
   ]
  },
  {
   "cell_type": "code",
   "execution_count": 39,
   "id": "a030231c",
   "metadata": {},
   "outputs": [
    {
     "name": "stdout",
     "output_type": "stream",
     "text": [
      "[688947.87729586 439719.90179779 311860.96912069 ... 301504.98351743\n",
      " 807411.29020197 363210.34753655]\n"
     ]
    }
   ],
   "source": [
    "y_predict = regressor.predict(X_test)\n",
    "print(y_predict)"
   ]
  },
  {
   "cell_type": "code",
   "execution_count": 40,
   "id": "eb5c31dc",
   "metadata": {},
   "outputs": [
    {
     "data": {
      "text/plain": [
       "array([354294.67141669, 348898.4435818 , 341736.19933782, ...,\n",
       "       405893.22714776, 232166.99980363, 708992.26243731])"
      ]
     },
     "execution_count": 40,
     "metadata": {},
     "output_type": "execute_result"
    }
   ],
   "source": [
    "regressor.predict(X_train)"
   ]
  },
  {
   "cell_type": "code",
   "execution_count": 41,
   "id": "83721cac",
   "metadata": {},
   "outputs": [
    {
     "data": {
      "text/plain": [
       "0.40145084677077103"
      ]
     },
     "execution_count": 41,
     "metadata": {},
     "output_type": "execute_result"
    }
   ],
   "source": [
    "regressor.score(X_test, y_test)"
   ]
  }
 ],
 "metadata": {
  "kernelspec": {
   "display_name": "Python 3 (ipykernel)",
   "language": "python",
   "name": "python3"
  },
  "language_info": {
   "codemirror_mode": {
    "name": "ipython",
    "version": 3
   },
   "file_extension": ".py",
   "mimetype": "text/x-python",
   "name": "python",
   "nbconvert_exporter": "python",
   "pygments_lexer": "ipython3",
   "version": "3.8.10"
  }
 },
 "nbformat": 4,
 "nbformat_minor": 5
}
