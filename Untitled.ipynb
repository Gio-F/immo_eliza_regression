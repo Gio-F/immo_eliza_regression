{
 "cells": [
  {
   "cell_type": "code",
   "execution_count": null,
   "id": "98dd2798",
   "metadata": {},
   "outputs": [],
   "source": [
    "import pandas as pd\n",
    "from sklearn import datasets\n",
    "import seaborn as sns\n",
    "import matplotlib.pyplot as plt\n",
    "\n",
    "\n",
    "df = pd.read_csv('clean_data_14feb.csv')"
   ]
  },
  {
   "cell_type": "code",
   "execution_count": null,
   "id": "c17e9df9",
   "metadata": {},
   "outputs": [],
   "source": [
    "df_cat= df.drop(columns = ['Unnamed: 0','Immoweb ID','Garden','Prop_orig','Post_code_orig','Sub-type','price/m2'])\n",
    "\n",
    "#for col in df:\n",
    " #   print(col) \n",
    "  #  print(df[col].unique())\n"
   ]
  },
  {
   "cell_type": "code",
   "execution_count": null,
   "id": "7de16f41",
   "metadata": {},
   "outputs": [],
   "source": [
    "#correlation with Price of all columns\n",
    "\n",
    "df_cat.corrwith(df_cat[\"Price\"]).sort_values(ascending=True)\n",
    "\n",
    "#Showing highly correlated features\n",
    "\n",
    "corr = df_cat.corr()\n",
    "\n",
    "target = abs(corr[\"Price\"])\n",
    "\n",
    "relevant_features = target[target>0.4]\n",
    "\n",
    "relevant_features"
   ]
  },
  {
   "cell_type": "code",
   "execution_count": null,
   "id": "5fdcea8e",
   "metadata": {},
   "outputs": [],
   "source": [
    "plt.figure(figsize=(25,20))\n",
    "\n",
    "\n",
    "ax=sns.heatmap(corr,annot=True,cmap=\"YlGnBu\")\n",
    "bottom, top = ax.get_ylim()\n",
    "ax.set_ylim(bottom + 0.5, top - 0.5) \n",
    "plt.show()\n",
    "\n"
   ]
  }
 ],
 "metadata": {
  "kernelspec": {
   "display_name": "Python 3 (ipykernel)",
   "language": "python",
   "name": "python3"
  },
  "language_info": {
   "codemirror_mode": {
    "name": "ipython",
    "version": 3
   },
   "file_extension": ".py",
   "mimetype": "text/x-python",
   "name": "python",
   "nbconvert_exporter": "python",
   "pygments_lexer": "ipython3",
   "version": "3.8.10"
  }
 },
 "nbformat": 4,
 "nbformat_minor": 5
}
